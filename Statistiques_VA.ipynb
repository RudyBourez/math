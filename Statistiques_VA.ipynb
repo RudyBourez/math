{
 "cells": [
  {
   "cell_type": "markdown",
   "metadata": {},
   "source": [
    "# <font color=\"red\">STATISTIQUES APPLIQUEE AUX VARIABLES ALEATOIRES</font>"
   ]
  },
  {
   "cell_type": "markdown",
   "metadata": {},
   "source": [
    "## <font color=\"blue\">Loi de probabilité d'une variable discréte</font>\n",
    "\n",
    "Avec l'exemple des 5 dés, nous allons étudier la loi de probabilité de notre variable aléatoire qui représente le nombre de dés pairs obtenus\n",
    "\n",
    "X(Ω) = {0,1,2,3,4,5}\n",
    "\n",
    "La loi de probabilité de notre variable ici reviendrait à chercher la probabilité P(X=x) pour k allant de 0 à 5, soit tous les résultats possibles\n",
    "\n",
    "     x     |      0      |      1      |      2      |      3      |     4     |      5     |    \n",
    "   P(X=x)  |     1/32    |    5/32     |    10/32    |    10/32    |   5/32    |    1/32    |  \n",
    "\n",
    "Ces valeurs suivent le triangle de Pascal (cf triangle de pascal)\n",
    "Les valeurs 1, 5, 10, 10, 5, 1 représente respectivement les combinaisons de x pris parmis 5"
   ]
  },
  {
   "cell_type": "markdown",
   "metadata": {},
   "source": [
    "## <font color=\"blue\">Fonction de répartition</font>\n",
    "\n",
    "Une fonction de répartition permet de suivre l'évolution de la probabilité.  \n",
    "Elle se définit de la manière suivante : FX(x) = P(X<=x) pour tout x réel.  \n",
    "3 propriétés : \n",
    "* FX est croissante \n",
    "* FX est continue en tout x réel\n",
    "* 0 <= FX <= 1 sur R\n",
    "\n",
    "cf exemple précédent "
   ]
  },
  {
   "cell_type": "markdown",
   "metadata": {},
   "source": [
    "## <font color=\"blue\">Espérance</font>\n",
    "\n",
    "L'espérance est la **moyenne pondérée** d'une variable aléatoire. Cette caractéristique est très importante dans les lois de probabilité puisqu'elle donne une indication de **position**. Pour de très grandes répétitions, la moyenne tend vers l'espérance.\n",
    "\n",
    "Elle se calcule comme étant la somme des valeurs multipliés par leur probabilité\n",
    "Dans l'exemple précédent:  \n",
    "**E(X)** = 0 * 1/32 + 1 * 5/32 + 2 * 10/32 + 3 * 10/32 + 4 * 5/32 + 5 * 1/32 = 80/32 = 2.5\n",
    "\n",
    "On s'attend donc à avoir 2.5 dés pairs sur les 5, ce qui est tout à fait logique puisque les dés ne sont pas truqués (équiprobabilité) \n",
    "\n",
    "cf exercice loi de probabilité et esperance"
   ]
  },
  {
   "cell_type": "markdown",
   "metadata": {},
   "source": [
    "## <font color=\"blue\">Variance</font>\n",
    "\n",
    "Cette caractéristique permet d'évaluer la dispersion de notre variable aléatoire. Plus la variance tend vers 0 et plus les valeurs sont équilibrées.\n",
    "\n",
    "Elle se calcule comme étant la somme des écarts entre la valeur et l'espérance au carré pondérée par la probabilité\n",
    "\n",
    "Dans l'exemple précédent, la variance se calcule :  \n",
    "**V(X)** = (0-2.5)²*1/32 + (1-2.5)² * 5/32 + (2-2.5)² * 10/32 + (3-2.5)² * 10/32 + (4-2.5)² * 5/32 + (5-2.5)² * 1/32  \n",
    "V(X) = 1.25\n",
    "\n",
    "En régle générale, on s'interesse plus souvent à **l'écart-type** qui est la valeur absolue de la racine carrée de la variance.   \n",
    "**𝝈 = abs(V(X) ** 1/2)**"
   ]
  },
  {
   "cell_type": "markdown",
   "metadata": {},
   "source": [
    "## <font color=\"blue\">Lois usuelles</font>"
   ]
  },
  {
   "cell_type": "markdown",
   "metadata": {},
   "source": [
    "### <font color = \"green\">Loi de Bernouilli</font>\n",
    "\n",
    "Cette loi se base sur le modèle de Bernouilli, c'est-à-dire un modèle ou notre variable aléatoire renvoit soit 1 en cas de succés de notre tentative ou 0 dans le cas inverse. Un exemple concret est le lancer de dé, si celui-ci donne un 6 alors c'est un succés sinon c'est un échec.\n",
    "\n",
    "La loi de Bernouilli posséde un unique paramétre p qui est la probabilité d'avoir un succés. Dans notre cas, notre variable aléatoire suit une loi de Bernouilli de paramètre 1/6\n",
    "\n",
    "P(X=x)=p^{x}.(1-p)^{1-x} pour x valant 1 ou 0 (succés/échec)\n",
    "E(X) = p\n",
    "V(X) = p.(1-p)"
   ]
  },
  {
   "cell_type": "markdown",
   "metadata": {},
   "source": [
    "### <font color = \"green\">Loi Binomiale</font>\n",
    "\n",
    "Cette loi se base également sur le modèle de Bernouilli, mais cette fois on réalise notre expérience plusieurs fois. Avec le cas précédent ou on calcule le nombre de fois ou l'on obtient un 6 avec 50 tentatives.\n",
    "\n",
    "La loi Binomiale posséde donc deux paramétres p et n, qui sont la probabilité d'avoir un succés et le nombre de tentative respectivement. Dans notre cas, notre variable aléatoire suit une loi de Binomiale de paramètre (1/6, 50)\n",
    "\n",
    "P(X=k) = {n \\choose k}.p^{k}(1-p)^{n-k}.} pour x valant 1 ou 0 (succés/échec)\n",
    "E(X) = n.p\n",
    "V(X) = n.p.(1-p)"
   ]
  },
  {
   "cell_type": "markdown",
   "metadata": {},
   "source": [
    "### <font color = \"green\">Loi de Poisson</font>\n",
    "\n",
    "Cette loi est plus souvent utilisée pour des événements *rares*. Elle tend à suivre la loi binomiale dans certaines conditions.\n",
    "\n",
    "Elle posséde un paramétre noté λ.\n",
    "\n",
    "P(X=k) = (λ^k / k!)*e^(-λ), e étant e(1) = 2.718\n",
    "E(X) = λ\n",
    "V(X) = λ"
   ]
  }
 ],
 "metadata": {
  "language_info": {
   "name": "python"
  },
  "orig_nbformat": 4
 },
 "nbformat": 4,
 "nbformat_minor": 2
}
