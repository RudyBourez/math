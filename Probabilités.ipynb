{
 "cells": [
  {
   "cell_type": "markdown",
   "metadata": {},
   "source": [
    "# <font color=\"red\">PROBABILITES</font>"
   ]
  },
  {
   "cell_type": "markdown",
   "metadata": {},
   "source": [
    "## <font color=\"blue\">Définitions</font>\n",
    "\n",
    "Les **probabilités** correspondent à la partie mathématique qui cherche à mesurer le caractère **aléatoire** d’un événement.\n",
    "Elles sont comprises entre 0 et 1 et s'écrivent de la manière suivante : **P()**  \n",
    "  \n",
    "Le calcul de celles-ci permet de quantifier la possibilité qu’un événement ait lieu lors d’une expérience qui\n",
    "découle du hasard. Il est possible de faire l’analyse de ces probabilités et ainsi de déterminer tous les résultats possibles, nous pouvons déterminer également les chances de gains ou de pertes entre différents événements.\n",
    "\n",
    "Une expérience peut être aléatoire si elle ne dépend que du hasard et si tous les résultats possibles sont décrits à\n",
    "l’avance. Ces résultats possibles forment **l'univers** de cette expérience et est noté **Ω** {résultat1, résultat2, ...}.\n",
    "\n",
    "* Exemple : Expérience du jet d'une pièces\n",
    "\n",
    "Il n'existe que deux possibilités dans ce cas, Pile(P) ou Face(F). Notre univers des possible est donc Ω = {P,F}\n",
    "Si cette pièce est correctement pondérée (pas truquée), alors la probabilité P(P) d'obtenir Pile équivaut à la probabilité P(F) d'obtenir Face:  \n",
    "P(P) = P(F) = 1/2 => **équiprobabilité**  \n",
    "Dans le cas où on lance deux fois la pièce, notre univers des possible devient Ω = {PP,PF,FP,FF} et   \n",
    "P(PP) = P(PF) = P(FP) = P(FF) = 1/4  \n",
    "\n",
    "On appele **cardinal** le nombre de résultats possibles d'un événement. Pour un ensemble fini de cardinal n avec m tentatives, on a un nombre total de sous-ensemble = ***n^m***"
   ]
  },
  {
   "cell_type": "markdown",
   "metadata": {},
   "source": [
    "## <font color=\"blue\">Notions importantes</font>\n",
    "\n",
    "Les évènements dans une expérience peuvent être liés entre-eux ou non, on parle alors d' **indépendance**.\n",
    "Deux évènements A et B sont dits **indépendants** si P(A∩B) = P(A).P(B). ***Attention*** Ne pas confondre indépéndants et **disjoints**.  [Cf Diagramme de Venn](https://seeing-theory.brown.edu/compound-probability/index.html#section1)\n",
    "\n",
    "\n",
    "* Ex: Lancer 3 fois d'une piéce non truquée:  \n",
    "    * Soit A l'événement on obtient pile au moins 2 fois et B l'événement on obtient pile 3 fois  \n",
    "Ω = {PPP,PPF,PFP,FPP,PFF,FPF,FFP,FFF}  Cardinal(Ω) = 2^3 = 8  \n",
    "A = {***PPP***,PPF,PFP,FPP} => P(A) = 4/8 = 1/2  \n",
    "B = {***PPP***} => P(B) = 1/8  \n",
    "A∩B = {PPP} => P(A∩B) = 1/8\n",
    "P(A∩B) = 1/8 != 1/8 * 1/2  ==> A et B ne sont pas **indépendants**  \n",
    "  \n",
    "    * Soit A l'événement on obtient pile au moins 2 fois et C l'événement on obtient face au moins 2 fois  \n",
    "Ω = {PPP,PPF,PFP,FPP,PFF,FPF,FFP,FFF}  \n",
    "A = {PPP,PPF,PFP,FPP} => P(A) = 4/8 = 1/2  \n",
    "B = {PFF,FPF,FFP,FFF} => P(B) = 1/8  \n",
    "A∩B = 0 => P(A∩B) = 0\n",
    "P(A∩B) = 0  ==> A et B sont **disjoints**\n"
   ]
  },
  {
   "cell_type": "markdown",
   "metadata": {},
   "source": [
    "Soit A, B et C trois événements de notre expérience et P(A),P(B) et P(C) leur probabilité, on a :\n",
    "\n",
    "P(Ā) = 1 - P(A)  \n",
    "  \n",
    "P(A∪B) : A union B  = probabilité de A ou B = P(A) + P(B) - P(A∩B)  \n",
    "P(A∪B) = 1 - P(Ā∩B̅)  \n",
    "Si les événements A et B sont **disjoints** alors P(A∪B) = P(A) + P(B)  car A∩B = 0  \n",
    "  \n",
    "P(A∩B) = P(A).P(B) si les événements A et B sont **indépendants**  \n",
    "**Commutativité :**  \n",
    "P(A∪B) = P(B∪A)  \n",
    "**Distributivité :**  \n",
    "P((A∪B)∩C) = P((A∩C)∪(B∩C)) = P(A∩C) + P(B∩C) - P(A∩B∩C)  \n",
    "P(A∪(B∩C)) = P((A∪B)∩(A∪C))\n",
    "\n",
    "**Formule de Bayes** :  \n",
    "Pb(A) ou P(A|B) : probabilité de A sachant B  = P(A∩B) / P(B)\n",
    "\n",
    "cf exercice 1 probabilité"
   ]
  },
  {
   "cell_type": "markdown",
   "metadata": {},
   "source": [
    "## <font color=\"blue\">Arbre de probabilité</font>\n",
    "\n",
    "Arbre composé d'étapes successives représentant toutes les possibilités d'une expérience aléatoire. Cet arbre peut être pondéré.\n",
    "Cet arbre nous permet de faire des calcul très rapides de probabilité sur les différentes combinaisons possibles de notre ensemble.  \n"
   ]
  },
  {
   "cell_type": "code",
   "execution_count": 1,
   "metadata": {},
   "outputs": [],
   "source": [
    "from PIL import Image\n",
    "img = Image.open(\"Assets/Arbre_des_possibles_pondéré.png\")\n",
    "img.show()"
   ]
  },
  {
   "cell_type": "markdown",
   "metadata": {},
   "source": [
    "cf exercices 2&3 probabilité"
   ]
  },
  {
   "cell_type": "markdown",
   "metadata": {},
   "source": [
    "## <font color=\"blue\">Variables aléatoires</font>\n",
    "\n",
    "Une variable aléatoire est l'association d'un **nombre** réel à un résultat d'une expérience aléatoire\n",
    "\n",
    "* Exemple : On lance 2 dés à 6 faces et on calcule la somme des faces de nos deux dés  \n",
    "L'expérience aléatoire a pour univers  \n",
    "Ω{11,12,13,14,15,16,21,22,23,24,25,26,31,32,33,34,35,36,41,42,43,44,45,46,51,52,53,54,55,56,61,62,63,64,65,66}  \n",
    "La variable aléatoire se note X et a comme **support** X(Ω) = {2,3,4,5,6,7,8,9,10,11,12}\n",
    "\n",
    "Cette variable aléatoire peut être discréte (nombre fini de résultat) ou continue | de densité (nombre infini de résultat). On peut effectuer des calculs conditionnels sur notre variable aléatoire :  \n",
    "    P(X=2) => probabilité que la somme de nos deux dés fasse 2  \n",
    "    P(X>=6) => probabilité que la somme des deux dés soit supérieure ou égale à 6  \n",
    "    P(3<X<7) => probabilité que la somme soit strictement inférieure à 7 et strictement supérieure à 3  \n",
    "\n",
    "cf exercice variable aléatoire"
   ]
  }
 ],
 "metadata": {
  "interpreter": {
   "hash": "e8e72ecd218193d245fb3b010d45ad55dac7ff54b5052aa4883c6a911d9d65f6"
  },
  "kernelspec": {
   "display_name": "Python 3.9.7 64-bit ('rb_ds': conda)",
   "language": "python",
   "name": "python3"
  },
  "language_info": {
   "codemirror_mode": {
    "name": "ipython",
    "version": 3
   },
   "file_extension": ".py",
   "mimetype": "text/x-python",
   "name": "python",
   "nbconvert_exporter": "python",
   "pygments_lexer": "ipython3",
   "version": "3.9.7"
  },
  "orig_nbformat": 4
 },
 "nbformat": 4,
 "nbformat_minor": 2
}
