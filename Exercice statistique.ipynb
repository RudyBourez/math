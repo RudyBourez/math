{
 "cells": [
  {
   "cell_type": "markdown",
   "metadata": {},
   "source": [
    "# <font color=\"red\">Exercice variable aléatoire</font>\n",
    "\n",
    "On lance 5 dés et on compte le nombre de dés pour lesquels la valeur est paire"
   ]
  },
  {
   "cell_type": "markdown",
   "metadata": {},
   "source": [
    "Combien existe t-il de possibilités dans notre expérience ? (Cardinal(Ω))  \n",
    "Combien existe t-il de possibilités pour notre variable aléatoire ? (support)"
   ]
  },
  {
   "cell_type": "code",
   "execution_count": null,
   "metadata": {},
   "outputs": [],
   "source": [
    "# cardinal =  \n",
    "# support = "
   ]
  },
  {
   "cell_type": "markdown",
   "metadata": {},
   "source": [
    "Quelle est la probabilité qu'on ait au moins trois dés pair ?  P(X>3)\n",
    "Quelle est la probabilité qu'il y ait un seul dé pair ? P(X=1)\n",
    "Quelle est la probabilité qu'il y ait trois dés impairs ? P(?)"
   ]
  },
  {
   "cell_type": "code",
   "execution_count": null,
   "metadata": {},
   "outputs": [],
   "source": [
    "# p_x3 = \n",
    "# p_x1 =\n",
    "# p_? = "
   ]
  },
  {
   "cell_type": "markdown",
   "metadata": {},
   "source": [
    "# <font color=\"red\">Exercice fonction de répartion</font>\n",
    "\n",
    "Exemple du jeu à gratter Cash  \n",
    "On achète un Cash et on souhaite savoir quelle est la probabilité de gagner de l'argent.  \n",
    "Représenter la fonction de répartion et déterminer l'espérance mathématique en sachant qu'un cash coute 5€."
   ]
  },
  {
   "cell_type": "code",
   "execution_count": 2,
   "metadata": {},
   "outputs": [],
   "source": [
    "import pandas as pd\n",
    "\n",
    "list_gain = [500000, 100000, 10000, 5000, 500, 100, 50, 20, 10, 5, 0]\n",
    "list_ticket = [3, 3, 5, 10, 3000, 135340, 135340, 496550, 2128000, 1796000, 4695051]"
   ]
  },
  {
   "cell_type": "code",
   "execution_count": 23,
   "metadata": {},
   "outputs": [
    {
     "data": {
      "text/plain": [
       "1.804765679067517"
      ]
     },
     "execution_count": 23,
     "metadata": {},
     "output_type": "execute_result"
    }
   ],
   "source": [
    "liste = zip(list_gain, list_ticket)\n",
    "df = pd.DataFrame(liste, columns=[\"Gains\",\"Tickets\"])\n",
    "df[\"Tickets\"] /= df[\"Tickets\"].sum()\n",
    "df[\"Gains\"] -= 5\n",
    "esperance = (df[\"Tickets\"] * df[\"Gains\"]).sum()\n",
    "esperance"
   ]
  }
 ],
 "metadata": {
  "interpreter": {
   "hash": "194b2fee8c7487a12bbf9fc6eab356934cf97f6074391a15e823a0b45f3e9552"
  },
  "kernelspec": {
   "display_name": "Python 3.10.0 64-bit",
   "language": "python",
   "name": "python3"
  },
  "language_info": {
   "codemirror_mode": {
    "name": "ipython",
    "version": 3
   },
   "file_extension": ".py",
   "mimetype": "text/x-python",
   "name": "python",
   "nbconvert_exporter": "python",
   "pygments_lexer": "ipython3",
   "version": "3.9.7"
  },
  "orig_nbformat": 4
 },
 "nbformat": 4,
 "nbformat_minor": 2
}
