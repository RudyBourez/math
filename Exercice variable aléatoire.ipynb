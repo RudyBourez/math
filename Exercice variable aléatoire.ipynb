{
 "cells": [
  {
   "cell_type": "markdown",
   "metadata": {},
   "source": [
    "# <font color=\"blue\">Exercice variable aléatoire</font>\n",
    "\n",
    "On lance 5 dés et on compte le nombre de dés pour lesquels la valeur est paire"
   ]
  },
  {
   "cell_type": "markdown",
   "metadata": {},
   "source": [
    "Combien existe t-il de possibilités dans notre expérience ? (Cardinal(Ω))  \n",
    "Combien existe t-il de possibilités pour notre variable aléatoire ? (support)"
   ]
  },
  {
   "cell_type": "code",
   "execution_count": 1,
   "metadata": {},
   "outputs": [],
   "source": [
    "# cardinal =  \n",
    "# support = "
   ]
  },
  {
   "cell_type": "markdown",
   "metadata": {},
   "source": [
    "Quelle est la probabilité qu'on ait au moins trois dés pair ?  P(X>3)  \n",
    "Quelle est la probabilité qu'il y ait un seul dé pair ? P(X=1)  \n",
    "Quelle est la probabilité qu'il y ait trois dés impairs ? P(?)  "
   ]
  },
  {
   "cell_type": "code",
   "execution_count": 2,
   "metadata": {},
   "outputs": [],
   "source": [
    "# px3 = \n",
    "# px1 =\n",
    "# p? = "
   ]
  },
  {
   "cell_type": "markdown",
   "metadata": {},
   "source": [
    "# <font color=\"blue\">Exercice loi de probabilité et esperance</font>\n",
    "\n",
    "Exemple du jeu à gratter Cash  \n",
    "On souhaite savoir quelle est la probabilité de gagner de l'argent.  \n",
    "En utilisant pandas, représenter la loi de probabilité et déterminer l'espérance mathématique en sachant qu'un cash coute 5€."
   ]
  },
  {
   "cell_type": "code",
   "execution_count": 3,
   "metadata": {},
   "outputs": [],
   "source": [
    "list_gain = [500000, 100000, 10000, 5000, 1000, 500, 100, 50, 20, 10, 5, 0]\n",
    "list_ticket = [3, 3, 5, 10, 1000, 3000, 112500, 112500, 375002, 1772496, 1500000, 11123481]"
   ]
  },
  {
   "cell_type": "code",
   "execution_count": null,
   "metadata": {},
   "outputs": [],
   "source": [
    "import pandas as pd"
   ]
  }
 ],
 "metadata": {
  "interpreter": {
   "hash": "194b2fee8c7487a12bbf9fc6eab356934cf97f6074391a15e823a0b45f3e9552"
  },
  "kernelspec": {
   "display_name": "Python 3.10.0 64-bit",
   "language": "python",
   "name": "python3"
  },
  "language_info": {
   "codemirror_mode": {
    "name": "ipython",
    "version": 3
   },
   "file_extension": ".py",
   "mimetype": "text/x-python",
   "name": "python",
   "nbconvert_exporter": "python",
   "pygments_lexer": "ipython3",
   "version": "3.9.7"
  },
  "orig_nbformat": 4
 },
 "nbformat": 4,
 "nbformat_minor": 2
}
