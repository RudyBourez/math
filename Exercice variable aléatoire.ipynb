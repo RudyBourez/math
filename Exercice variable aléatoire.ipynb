{
 "cells": [
  {
   "cell_type": "markdown",
   "metadata": {},
   "source": [
    "# <font color=\"red\">Exercice 1</font>\n",
    "\n",
    "On lance 5 dés et on compte le nombre de dés pour lesquels la valeur est paire"
   ]
  },
  {
   "cell_type": "markdown",
   "metadata": {},
   "source": [
    "Combien existe t-il de possibilités dans notre expérience ? (Cardinal(Ω))  \n",
    "Combien existe t-il de possibilités pour notre variable aléatoire ? (support)"
   ]
  },
  {
   "cell_type": "code",
   "execution_count": null,
   "metadata": {},
   "outputs": [],
   "source": [
    "# cardinal =  \n",
    "# support = "
   ]
  },
  {
   "cell_type": "markdown",
   "metadata": {},
   "source": [
    "Quelle est la probabilité qu'on ait au moins trois dés pair ?  P[X>3]\n",
    "Quelle est la probabilité qu'il y ait un seul dé pair ? P[X=1]\n",
    "Quelle est la probabilité qu'il y ait trois dés impairs ? P[?]"
   ]
  },
  {
   "cell_type": "code",
   "execution_count": null,
   "metadata": {},
   "outputs": [],
   "source": [
    "# p_x3 = \n",
    "# p_x1 =\n",
    "# p_? = "
   ]
  }
 ],
 "metadata": {
  "language_info": {
   "name": "python"
  },
  "orig_nbformat": 4
 },
 "nbformat": 4,
 "nbformat_minor": 2
}
