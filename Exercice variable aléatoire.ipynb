{
 "cells": [
  {
   "cell_type": "markdown",
   "metadata": {},
   "source": [
    "# <font color=\"blue\">Exercice variable aléatoire</font>\n",
    "\n",
    "On lance 5 dés et on compte le nombre de dés pour lesquels la valeur est paire"
   ]
  },
  {
   "cell_type": "markdown",
   "metadata": {},
   "source": [
    "Combien existe t-il de possibilités dans notre expérience ? (Cardinal(Ω))  \n",
    "Combien existe t-il de possibilités pour notre variable aléatoire ? (support)"
   ]
  },
  {
   "cell_type": "code",
   "execution_count": 1,
   "metadata": {},
   "outputs": [],
   "source": [
    "# cardinal =  \n",
    "# support = "
   ]
  },
  {
   "cell_type": "markdown",
   "metadata": {},
   "source": [
    "Quelle est la probabilité qu'on ait au moins trois dés pair ?  P(X>3)  \n",
    "Quelle est la probabilité qu'il y ait un seul dé pair ? P(X=1)  \n",
    "Quelle est la probabilité qu'il y ait trois dés impairs ? P(?)  "
   ]
  },
  {
   "cell_type": "code",
   "execution_count": 2,
   "metadata": {},
   "outputs": [],
   "source": [
    "# px3 = \n",
    "# px1 =\n",
    "# p? = "
   ]
  },
  {
   "cell_type": "markdown",
   "metadata": {},
   "source": [
    "# <font color=\"blue\">Exercice loi de probabilité et esperance</font>\n",
    "\n",
    "Exemple du jeu à gratter Cash  \n",
    "On achète un Cash et on souhaite savoir quelle est la probabilité de gagner de l'argent.  \n",
    "Représenter la loi de probabilité et déterminer l'espérance mathématique en sachant qu'un cash coute 5€."
   ]
  },
  {
   "cell_type": "code",
   "execution_count": 3,
   "metadata": {},
   "outputs": [],
   "source": [
    "import pandas as pd\n",
    "\n",
    "list_gain = [500000, 100000, 10000, 5000, 1000, 500, 100, 50, 20, 10, 5, 0]\n",
    "list_ticket = [3, 3, 5, 10, 1000, 3000, 112500, 112500, 375002, 1772496, 1500000, 11123481]"
   ]
  },
  {
   "cell_type": "code",
   "execution_count": 4,
   "metadata": {},
   "outputs": [
    {
     "data": {
      "text/plain": [
       "(     Gains   Tickets         Proba   Money\n",
       " 0   500000         3  2.000000e-07  499995\n",
       " 1   100000         3  2.000000e-07   99995\n",
       " 2    10000         5  3.333333e-07    9995\n",
       " 3     5000        10  6.666667e-07    4995\n",
       " 4     1000      1000  6.666667e-05     995\n",
       " 5      500      3000  2.000000e-04     495\n",
       " 6      100    112500  7.500000e-03      95\n",
       " 7       50    112500  7.500000e-03      45\n",
       " 8       20    375002  2.500013e-02      15\n",
       " 9       10   1772496  1.181664e-01       5\n",
       " 10       5   1500000  1.000000e-01       0\n",
       " 11       0  11123481  7.415654e-01      -5,\n",
       " -1.4)"
      ]
     },
     "execution_count": 4,
     "metadata": {},
     "output_type": "execute_result"
    }
   ],
   "source": [
    "liste = zip(list_gain, list_ticket)\n",
    "df = pd.DataFrame(liste, columns=[\"Gains\",\"Tickets\"])\n",
    "df[\"Proba\"] = df[\"Tickets\"]/df[\"Tickets\"].sum()\n",
    "df[\"Money\"] = df[\"Gains\"] - 5\n",
    "esperance = (df[\"Money\"] * df[\"Proba\"]).sum()\n",
    "df, esperance"
   ]
  },
  {
   "cell_type": "code",
   "execution_count": 5,
   "metadata": {},
   "outputs": [
    {
     "name": "stdout",
     "output_type": "stream",
     "text": [
      "Chiffre d'affaire: 75000000 | Bénéfice : 21000000\n"
     ]
    }
   ],
   "source": [
    "df[\"Gains\"] *= df[\"Tickets\"]\n",
    "df[\"Tickets\"] *= 5\n",
    "print(f'Chiffre d\\'affaire: {df[\"Tickets\"].sum()} | Bénéfice : {df[\"Tickets\"].sum() - df[\"Gains\"].sum()}')"
   ]
  }
 ],
 "metadata": {
  "interpreter": {
   "hash": "194b2fee8c7487a12bbf9fc6eab356934cf97f6074391a15e823a0b45f3e9552"
  },
  "kernelspec": {
   "display_name": "Python 3.10.0 64-bit",
   "language": "python",
   "name": "python3"
  },
  "language_info": {
   "codemirror_mode": {
    "name": "ipython",
    "version": 3
   },
   "file_extension": ".py",
   "mimetype": "text/x-python",
   "name": "python",
   "nbconvert_exporter": "python",
   "pygments_lexer": "ipython3",
   "version": "3.9.7"
  },
  "orig_nbformat": 4
 },
 "nbformat": 4,
 "nbformat_minor": 2
}
