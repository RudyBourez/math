{
 "cells": [
  {
   "cell_type": "markdown",
   "metadata": {},
   "source": [
    "# <font color=\"blue\">Exercice variable aléatoire</font>\n",
    "\n",
    "On lance 5 dés et on compte le nombre de dés pour lesquels la valeur est paire"
   ]
  },
  {
   "cell_type": "markdown",
   "metadata": {},
   "source": [
    "Combien existe t-il de possibilités dans notre expérience ? (Cardinal(Ω))  \n",
    "Combien existe t-il de possibilités pour notre variable aléatoire ? (support)"
   ]
  },
  {
   "cell_type": "code",
   "execution_count": 1,
   "metadata": {},
   "outputs": [],
   "source": [
    "cardinal =  6**5\n",
    "support = {0,1,2,3,4,5}"
   ]
  },
  {
   "cell_type": "markdown",
   "metadata": {},
   "source": [
    "Quelle est la probabilité qu'on ait au moins quatre dés pair ?  P(X>3)  \n",
    "Quelle est la probabilité qu'il y ait un seul dé impair ? P(X=1)  \n",
    "Quelle est la probabilité qu'il y ait trois dés impairs ? P(X'=3) = P(X=2)  "
   ]
  },
  {
   "cell_type": "code",
   "execution_count": 2,
   "metadata": {},
   "outputs": [],
   "source": [
    "{PPPPP, PPPPI,PiPPP,PPIPP,PPPIP,IPPPP}\n",
    "px4 = 6/2**5\n",
    "{PPPPI,PPPIP,PPIPP,PIPPP,IPPPP}\n",
    "px1 = 5 /32\n",
    "{PPIII,PIPII,PIIPI,PIIIP,}\n",
    "p = "
   ]
  },
  {
   "cell_type": "markdown",
   "metadata": {},
   "source": [
    "# <font color=\"blue\">Exercice loi de probabilité et esperance</font>\n",
    "\n",
    "Exemple du jeu à gratter Cash  \n",
    "On souhaite savoir quelle est la probabilité de gagner de l'argent.  \n",
    "En utilisant pandas, représenter la loi de probabilité et déterminer l'espérance mathématique en sachant qu'un cash coute 5€."
   ]
  },
  {
   "cell_type": "code",
   "execution_count": 9,
   "metadata": {},
   "outputs": [],
   "source": [
    "list_gain = [500000, 100000, 10000, 5000, 1000, 500, 100, 50, 20, 10, 5, 0]\n",
    "list_ticket = [3, 3, 5, 10, 1000, 3000, 112500, 112500, 375002, 1772496, 1500000, 11123481]"
   ]
  },
  {
   "cell_type": "code",
   "execution_count": 7,
   "metadata": {},
   "outputs": [],
   "source": [
    "import pandas as pd\n",
    "import numpy as np"
   ]
  },
  {
   "cell_type": "markdown",
   "metadata": {},
   "source": [
    "Valeur (X) et sa probabilité P(X)"
   ]
  },
  {
   "cell_type": "code",
   "execution_count": 22,
   "metadata": {},
   "outputs": [
    {
     "data": {
      "text/plain": [
       "[2e-07,\n",
       " 2e-07,\n",
       " 3.3333333333333335e-07,\n",
       " 6.666666666666667e-07,\n",
       " 6.666666666666667e-05,\n",
       " 0.0002,\n",
       " 0.0075,\n",
       " 0.0075,\n",
       " 0.025000133333333334,\n",
       " 0.1181664,\n",
       " 0.1,\n",
       " 0.7415654]"
      ]
     },
     "execution_count": 22,
     "metadata": {},
     "output_type": "execute_result"
    }
   ],
   "source": [
    "nb_ticket = sum(list_ticket)\n",
    "list_proba = [value/nb_ticket for value in list_ticket]\n",
    "list_money = [value-5 for value in list_gain]\n",
    "E=0\n",
    "for i in range(len(list_money)):\n",
    "    E+= list_proba[i]* list_money[i]\n",
    "list_proba"
   ]
  },
  {
   "cell_type": "code",
   "execution_count": 8,
   "metadata": {},
   "outputs": [
    {
     "data": {
      "text/plain": [
       "-1.4"
      ]
     },
     "execution_count": 8,
     "metadata": {},
     "output_type": "execute_result"
    }
   ],
   "source": [
    "list_gain=np.array(list_gain)\n",
    "list_ticket=np.array(list_ticket)\n",
    "((list_gain*list_ticket).sum()/list_ticket.sum()) -5"
   ]
  },
  {
   "cell_type": "code",
   "execution_count": 19,
   "metadata": {},
   "outputs": [
    {
     "data": {
      "text/plain": [
       "-1.4"
      ]
     },
     "execution_count": 19,
     "metadata": {},
     "output_type": "execute_result"
    }
   ],
   "source": [
    "liste = list(zip(list_gain,list_ticket))\n",
    "df = pd.DataFrame(liste,columns=['Gain', 'Ticket'])\n",
    "df[\"Proba\"] = df[\"Ticket\"]/df[\"Ticket\"].sum()\n",
    "df[\"Money\"] = df[\"Gain\"] - 5\n",
    "E= sum(df[\"Money\"]*df[\"Proba\"])\n",
    "E"
   ]
  }
 ],
 "metadata": {
  "interpreter": {
   "hash": "194b2fee8c7487a12bbf9fc6eab356934cf97f6074391a15e823a0b45f3e9552"
  },
  "kernelspec": {
   "display_name": "Python 3.10.0 64-bit",
   "language": "python",
   "name": "python3"
  },
  "language_info": {
   "codemirror_mode": {
    "name": "ipython",
    "version": 3
   },
   "file_extension": ".py",
   "mimetype": "text/x-python",
   "name": "python",
   "nbconvert_exporter": "python",
   "pygments_lexer": "ipython3",
   "version": "3.9.7"
  },
  "orig_nbformat": 4
 },
 "nbformat": 4,
 "nbformat_minor": 2
}
