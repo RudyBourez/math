{
 "cells": [
  {
   "cell_type": "markdown",
   "metadata": {},
   "source": [
    "# <font color=\"red\">STATISTIQUES</font>"
   ]
  },
  {
   "cell_type": "markdown",
   "metadata": {},
   "source": [
    "## <font color=\"red\">Loi de probabilité d'une variable discréte</font>\n",
    "\n",
    "Avec l'exemple des 5 dés, nous allons étudier la loi de probabilité de notre variable aléatoire qui représente le nombre de dés pairs obtenus\n",
    "\n",
    "X(Ω) = {0,1,2,3,4,5}\n",
    "\n",
    "La loi de probabilité de notre variable ici reviendrait à chercher la probabilité P(X=x) pour k allant de 0 à 5, soit tous les résultats possibles\n",
    "\n",
    "     x     |      0      |      1      |      2      |      3      |     4     |      5     |    \n",
    "  P(X=x)   |   1/(2^5)   |   5/(2^5)   |   10/(2^5)  |   10/(2^5)  |  5/(2^5)  |   1/(2^5)  |  \n",
    "\n",
    "Ces valeurs suivent le triangle de Pascal (cf triangle de pascal)"
   ]
  },
  {
   "cell_type": "markdown",
   "metadata": {},
   "source": [
    "## <font color=\"red\">Fonction de répartition</font>\n",
    "\n",
    "Une fonction de répartition permet de suivre l'évolution de la probabilité.  \n",
    "Elle se définit de la manière suivante : FX(x) = P(X<=x) pour tout x réel.  \n",
    "3 propriétés : \n",
    "* FX est croissante \n",
    "* FX est continue en tout x réel\n",
    "* 0 <= FX <= 1 sur R\n",
    "\n",
    "cf exemple précédent "
   ]
  },
  {
   "cell_type": "markdown",
   "metadata": {},
   "source": [
    "## <font color=\"red\">Espérance</font>\n",
    "\n",
    "L'espérance est la **moyenne pondérée** d'une variable aléatoire. Cette caractéristique est très importante dans les lois de probabilité puisqu'elle donne une indication de **position**. Pour de très grandes répétitions, la moyenne tend vers l'espérance.\n",
    "\n",
    "Elle se calcule comme étant la somme des valeurs multipliés par leur probabilité\n",
    "Dans l'exemple précédent:  \n",
    "**E(X)** = 0 * 1/32 + 1 * 5/32 + 2 * 10/32 + 3 * 10/32 + 4 * 5/32 + 5 * 1/32 = 80/32 = 2.5\n",
    "\n",
    "On s'attend donc à avoir 2.5 dés pairs sur les 5, ce qui est tout à fait logique puisque les dés ne sont pas truqués (équiprobabilité) "
   ]
  }
 ],
 "metadata": {
  "language_info": {
   "name": "python"
  },
  "orig_nbformat": 4
 },
 "nbformat": 4,
 "nbformat_minor": 2
}
