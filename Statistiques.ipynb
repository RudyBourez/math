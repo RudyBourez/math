{
 "cells": [
  {
   "cell_type": "markdown",
   "metadata": {},
   "source": [
    "# <font color=\"red\">STATISTIQUES</font>"
   ]
  },
  {
   "cell_type": "markdown",
   "metadata": {},
   "source": [
    "## <font color=\"blue\">Loi de probabilité d'une variable discréte</font>\n",
    "\n",
    "Avec l'exemple des 5 dés, nous allons étudier la loi de probabilité de notre variable aléatoire qui représente le nombre de dés pairs obtenus\n",
    "\n",
    "X(Ω) = {0,1,2,3,4,5}\n",
    "\n",
    "La loi de probabilité de notre variable ici reviendrait à chercher la probabilité P(X=x) pour k allant de 0 à 5, soit tous les résultats possibles\n",
    "\n",
    "     x     |      0      |      1      |      2      |      3      |     4     |      5     |    \n",
    "   P(X=x)  |     1/32    |    5/32     |    10/32    |    10/32    |   5/32    |    1/32    |  \n",
    "\n",
    "Ces valeurs suivent le triangle de Pascal (cf triangle de pascal)"
   ]
  },
  {
   "cell_type": "markdown",
   "metadata": {},
   "source": [
    "## <font color=\"blue\">Fonction de répartition</font>\n",
    "\n",
    "Une fonction de répartition permet de suivre l'évolution de la probabilité.  \n",
    "Elle se définit de la manière suivante : FX(x) = P(X<=x) pour tout x réel.  \n",
    "3 propriétés : \n",
    "* FX est croissante \n",
    "* FX est continue en tout x réel\n",
    "* 0 <= FX <= 1 sur R\n",
    "\n",
    "cf exemple précédent "
   ]
  },
  {
   "cell_type": "markdown",
   "metadata": {},
   "source": [
    "## <font color=\"blue\">Espérance</font>\n",
    "\n",
    "L'espérance est la **moyenne pondérée** d'une variable aléatoire. Cette caractéristique est très importante dans les lois de probabilité puisqu'elle donne une indication de **position**. Pour de très grandes répétitions, la moyenne tend vers l'espérance.\n",
    "\n",
    "Elle se calcule comme étant la somme des valeurs multipliés par leur probabilité\n",
    "Dans l'exemple précédent:  \n",
    "**E(X)** = 0 * 1/32 + 1 * 5/32 + 2 * 10/32 + 3 * 10/32 + 4 * 5/32 + 5 * 1/32 = 80/32 = 2.5\n",
    "\n",
    "On s'attend donc à avoir 2.5 dés pairs sur les 5, ce qui est tout à fait logique puisque les dés ne sont pas truqués (équiprobabilité) \n",
    "\n",
    "cf exercice loi de probabilité et esperance"
   ]
  },
  {
   "cell_type": "markdown",
   "metadata": {},
   "source": [
    "## <font color=\"blue\">Variance</font>\n",
    "\n",
    "Cette caractéristique permet d'évaluer la dispersion de notre variable aléatoire. Plus la variance tend vers 0 et plus les valeurs sont équilibrées.\n",
    "\n",
    "Elle se calcule comme étant la somme des écarts entre la valeur et l'espérance au carré pondérée par la probabilité\n",
    "\n",
    "Dans l'exemple précédent, la variance se calcule :  \n",
    "**V(X)** = (0-2.5)²*1/32 + (1-2.5)² * 5/32 + (2-2.5)² * 10/32 + (3-2.5)² * 10/32 + (4-2.5)² * 5/32 + (5-2.5)² * 1/32  \n",
    "V(X) = 1.25\n",
    "\n",
    "En régle générale, on s'interesse plus souvent à **l'écart-type** qui est la valeur absolue de la racine carrée de la variance.   \n",
    "**𝝈 = abs(V(X) ** 1/2)**"
   ]
  },
  {
   "cell_type": "markdown",
   "metadata": {},
   "source": [
    "## <font color=\"blue\">Médiane et Quartiles</font>\n",
    "\n",
    "Notation : \n",
    "* 1er quartile = Q1 (au max 25% de la population)\n",
    "* 2ème quartile (Médiane) = Me (au max 50% de la population)\n",
    "* 3ème quartile = Q3 (au max 75% de la population)\n",
    "\n",
    "Ces valeurs sont très importantes afin de mieux comprendre la répartition globale et vont permettre de réaliser un diagramme type boîte à moustaches\n",
    "\n",
    "Q3 - Q1 est appelée **écart inter-quartile** qui est un critère utilisée pour la dispersion"
   ]
  }
 ],
 "metadata": {
  "language_info": {
   "name": "python"
  },
  "orig_nbformat": 4
 },
 "nbformat": 4,
 "nbformat_minor": 2
}
