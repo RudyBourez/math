{
 "cells": [
  {
   "cell_type": "markdown",
   "metadata": {},
   "source": [
    "# <font color=\"red\">STATISTIQUES</font>"
   ]
  },
  {
   "cell_type": "markdown",
   "metadata": {},
   "source": [
    "## <font color=\"red\">Loi de probabilité d'une variable discréte</font>\n",
    "\n",
    "Avec l'exemple des 5 dés, nous allons étudier la loi de probabilité de notre variable aléatoire qui représente le nombre de dés pairs obtenus\n",
    "\n",
    "X(Ω) = {0,1,2,3,4,5}\n",
    "\n",
    "La loi de probabilité de notre variable ici reviendrait à chercher la probabilité P[X=k] pour k allant de 0 à 5, soit tous les résultats possibles\n",
    "\n",
    "     k     |      0      |      1      |      2      |      3      |     4     |      5     |  \n",
    "  P[x=k]   |   1/(2^5)   |   5/(2^5)   |   10/(2^5)  |   10/(2^5)  |  5/(2^5)  |   1/(2^5)  |  \n",
    "\n",
    "Ces valeurs suivent le triangle de Pascal (cf triangle de pascal)"
   ]
  }
 ],
 "metadata": {
  "language_info": {
   "name": "python"
  },
  "orig_nbformat": 4
 },
 "nbformat": 4,
 "nbformat_minor": 2
}
