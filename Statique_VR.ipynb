{
 "cells": [
  {
   "cell_type": "markdown",
   "metadata": {},
   "source": [
    "# <font color=\"red\"> STATISTIQUES APPLIQUEES AUX VARIABLES REELLES</font>"
   ]
  },
  {
   "cell_type": "markdown",
   "metadata": {},
   "source": [
    "## <font color=\"blue\">Espérance</font>\n",
    "\n",
    "Dans le cas de variables réelles, on ne pondére plus les valeurs avec leurs probabilités. Ici on aura juste la moyenne de toutes les valeurs."
   ]
  },
  {
   "cell_type": "code",
   "execution_count": 5,
   "metadata": {},
   "outputs": [
    {
     "data": {
      "text/plain": [
       "8.125"
      ]
     },
     "execution_count": 5,
     "metadata": {},
     "output_type": "execute_result"
    }
   ],
   "source": [
    "value = [1, 5, 12, 3, 7, 9, 8, 20]\n",
    "E = sum(value)/len(value)\n",
    "E"
   ]
  },
  {
   "cell_type": "markdown",
   "metadata": {},
   "source": [
    "## <font color=\"blue\">Variance et écart-type</font>\n",
    "\n",
    "Dans le cas de variables réelles, la variance est la moyenne des écarts des valeurs à la moyenne. Elle est la représentation de la dispersion de notre variable."
   ]
  },
  {
   "cell_type": "code",
   "execution_count": 9,
   "metadata": {},
   "outputs": [
    {
     "data": {
      "text/plain": [
       "(30.609375, 5.532573994082682)"
      ]
     },
     "execution_count": 9,
     "metadata": {},
     "output_type": "execute_result"
    }
   ],
   "source": [
    "V = sum(map(lambda x : (x - E)**2,value))/len(value)\n",
    "σ = V**(1/2)\n",
    "V,σ"
   ]
  },
  {
   "cell_type": "markdown",
   "metadata": {},
   "source": [
    "## <font color=\"blue\">Médiane et Quartiles</font>\n",
    "\n",
    "Notation : \n",
    "* 1er quartile = Q1 (au max 25% de la population)\n",
    "* 2ème quartile (Médiane) = Me (au max 50% de la population)\n",
    "* 3ème quartile = Q3 (au max 75% de la population)\n",
    "\n",
    "Ces valeurs sont très importantes afin de mieux comprendre la répartition globale et vont permettre de réaliser un diagramme type boîte à moustaches\n",
    "\n",
    "Q3 - Q1 est appelée **écart inter-quartile** qui est un critère utilisée pour la dispersion"
   ]
  }
 ],
 "metadata": {
  "interpreter": {
   "hash": "194b2fee8c7487a12bbf9fc6eab356934cf97f6074391a15e823a0b45f3e9552"
  },
  "kernelspec": {
   "display_name": "Python 3.10.0 64-bit",
   "language": "python",
   "name": "python3"
  },
  "language_info": {
   "codemirror_mode": {
    "name": "ipython",
    "version": 3
   },
   "file_extension": ".py",
   "mimetype": "text/x-python",
   "name": "python",
   "nbconvert_exporter": "python",
   "pygments_lexer": "ipython3",
   "version": "3.10.0"
  },
  "orig_nbformat": 4
 },
 "nbformat": 4,
 "nbformat_minor": 2
}
