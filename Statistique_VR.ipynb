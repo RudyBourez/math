{
 "cells": [
  {
   "cell_type": "markdown",
   "metadata": {},
   "source": [
    "# <font color=\"red\"> STATISTIQUES APPLIQUEES AUX VARIABLES REELLES</font>"
   ]
  },
  {
   "cell_type": "markdown",
   "metadata": {},
   "source": [
    "## <font color=\"blue\">Espérance</font>\n",
    "\n",
    "Dans le cas de variables réelles, on ne pondére plus les valeurs avec leurs probabilités. Ici on aura juste la moyenne de toutes les valeurs."
   ]
  },
  {
   "cell_type": "code",
   "execution_count": 5,
   "metadata": {},
   "outputs": [
    {
     "data": {
      "text/plain": [
       "8.125"
      ]
     },
     "execution_count": 5,
     "metadata": {},
     "output_type": "execute_result"
    }
   ],
   "source": [
    "value = [1, 5, 12, 3, 7, 9, 8, 20]\n",
    "E = sum(value)/len(value)\n",
    "E"
   ]
  },
  {
   "cell_type": "markdown",
   "metadata": {},
   "source": [
    "## <font color=\"blue\">Variance et écart-type</font>\n",
    "\n",
    "Dans le cas de variables réelles, la variance est la moyenne des écarts des valeurs à la moyenne. Elle est la représentation de la dispersion de notre variable."
   ]
  },
  {
   "cell_type": "code",
   "execution_count": 9,
   "metadata": {},
   "outputs": [
    {
     "data": {
      "text/plain": [
       "(30.609375, 5.532573994082682)"
      ]
     },
     "execution_count": 9,
     "metadata": {},
     "output_type": "execute_result"
    }
   ],
   "source": [
    "V = sum(map(lambda x : (x - E)**2,value))/len(value)\n",
    "σ = V**(1/2)\n",
    "V,σ"
   ]
  },
  {
   "cell_type": "markdown",
   "metadata": {},
   "source": [
    "## <font color=\"blue\">Covariance et corrélation</font>"
   ]
  },
  {
   "cell_type": "markdown",
   "metadata": {},
   "source": [
    "La covariance permet de pondérer les relations qui existeraient entre deux variables aléatoires(corrélation).  \n",
    "Soit deux variables X et Y, la covariance de X et Y s'écrit COV(X,Y) ou σxy.  \n",
    "\n",
    "Théoréme de König-Huygens:  \n",
    "**COV(X,Y) = E(XY) - E(X).E(Y)**  \n",
    "Si X et Y sont indépéndants, alors COV(X,Y) = 0  \n",
    "***Attention*** La réciproque n'est pas vraie  \n",
    "\n",
    "COV(X,X) = V(X)  \n",
    "COV(X,Y) = COV(Y,X)  \n",
    "COV(cX,Y) = c.COV(X,Y), c = constante  \n",
    "COV(c+X,Y) = COV(X,Y), c = constante  \n",
    "COV(X+Y,Z) = Cov(X,Z) + COV(Y,Z)  \n",
    "\n",
    "Si on cherche à étudier de nombreux paramètres dans des données, on utilisera la covariance et plus précisément la corrélation afin d'estimer le lien entre deux paramètres. On stocke ces covariances dans une matrice appelée **matrice de covariance**.  \n",
    "On peut estimer la corrélation par le calcul suivant:  \n",
    "r = COV(X,Y)/(V(X)*V(Y))\n",
    "La corrélation est comprise entre -1 et 1, on utilise donc plus souvent r^2 compris en 0 et 1.\n",
    "On obtient avec cette valeur la **matrice de corrélation** que l'on peut représenter sous forme de heatmap."
   ]
  },
  {
   "cell_type": "code",
   "execution_count": 11,
   "metadata": {},
   "outputs": [],
   "source": [
    "from PIL import Image\n",
    "img = Image.open(\"Assets/Matrice de covariance.png\")\n",
    "img.show()"
   ]
  },
  {
   "cell_type": "markdown",
   "metadata": {},
   "source": [
    "## <font color=\"blue\">Médiane, Quartiles et Mode</font>\n",
    "\n",
    "Notation : \n",
    "* 1er quartile = Q1 (25% de l'effectif cumulé) ===> Q1 = (N+3)/4  \n",
    "* 2ème quartile (Médiane) = Me (50% de l'effectif cumulé) ===> Me = (N+1)/2  \n",
    "* 3ème quartile = Q3 (75% de l'effectif cumulé) ===> Q3 = (3N+1)/4  \n",
    "\n",
    "Ces valeurs sont très importantes afin de mieux comprendre la répartition globale et vont permettre de réaliser un diagramme type boîte à moustaches\n",
    "\n",
    "Q3 - Q1 est appelée **écart inter-quartile** qui est un critère utilisée pour la dispersion  \n",
    "\n",
    "Le **mode** correspond à la valeur pour laquelle la densité de probabilité est la plus élevée"
   ]
  }
 ],
 "metadata": {
  "interpreter": {
   "hash": "194b2fee8c7487a12bbf9fc6eab356934cf97f6074391a15e823a0b45f3e9552"
  },
  "kernelspec": {
   "display_name": "Python 3.10.0 64-bit",
   "language": "python",
   "name": "python3"
  },
  "language_info": {
   "codemirror_mode": {
    "name": "ipython",
    "version": 3
   },
   "file_extension": ".py",
   "mimetype": "text/x-python",
   "name": "python",
   "nbconvert_exporter": "python",
   "pygments_lexer": "ipython3",
   "version": "3.10.0"
  },
  "orig_nbformat": 4
 },
 "nbformat": 4,
 "nbformat_minor": 2
}
