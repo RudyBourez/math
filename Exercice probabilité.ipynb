{
 "cells": [
  {
   "cell_type": "markdown",
   "metadata": {},
   "source": [
    "# <font color=\"red\">Exercice 1</font>\n",
    "\n",
    "Jeu de 52 cartes avec 4 couleurs (Trèfle, Carreau, Pique & Coeur) composées chacunes de 13 cartes(A,K,Q,V,2-10)"
   ]
  },
  {
   "cell_type": "markdown",
   "metadata": {},
   "source": [
    "## <font color=\"blue\">Partie 1: Tirage de 1 carte aléatoire</font>\n",
    "\n",
    "* 1: Probabilité de piocher une carte noire ?\n",
    "* 2: Probabilité de piocher un As rouge?\n",
    "* 3: Probabilité de piocher le roi de trèfle?\n",
    "* 4: Probabilité de piocher une carte noire ou une carte rouge ?\n",
    "* 5: Probabilité de piocher l’as de pique ou une dame rouge ?\n",
    "* 6: Probabilité de piocher le roi de tréfle sachant que la carte est de couleur noire ?"
   ]
  },
  {
   "cell_type": "code",
   "execution_count": null,
   "metadata": {},
   "outputs": [],
   "source": [
    "# P1 = \n",
    "# P2 = \n",
    "# P3 = \n",
    "# P4 = \n",
    "# P5 = \n",
    "# P6 ="
   ]
  },
  {
   "cell_type": "markdown",
   "metadata": {},
   "source": [
    "## <font color=\"blue\">Partie 2:  On pioche deux cartes consécutives AVEC remise</font>\n",
    "\n",
    "* 7: Probabilités de piocher le roi de trèfle puis le roi de trèfle ?\n",
    "* 8: Probabilité de piocher deux fois une carte noire ?\n",
    "* 9: Probabilités de piocher deux As ?\n",
    "* 10: Probabilités de piocher le valet de carreau puis un tréfle ?"
   ]
  },
  {
   "cell_type": "code",
   "execution_count": null,
   "metadata": {},
   "outputs": [],
   "source": [
    "# P7 = \n",
    "# P8 = \n",
    "# P9 = \n",
    "# P10 = "
   ]
  },
  {
   "cell_type": "markdown",
   "metadata": {},
   "source": [
    "## <font color=\"blue\">Partie 3:  On pioche cette fois–ci deux cartes consécutives SANS remise</font>\n",
    "\n",
    "* 11: Probabilité de piocher deux fois une carte noire ?\n",
    "* 12: Probabilités de piocher le roi de trèfle et le roi de trèfle ?\n",
    "* 13: Probabilités de piocher deux As ?\n",
    "* 14: Probabilités de piocher le roi de trèfle ou la dame de trèfle puis une carte noire?"
   ]
  },
  {
   "cell_type": "code",
   "execution_count": null,
   "metadata": {},
   "outputs": [],
   "source": [
    "# P11 = \n",
    "# P12 = \n",
    "# P13 = \n",
    "# P14 = "
   ]
  },
  {
   "cell_type": "markdown",
   "metadata": {},
   "source": [
    "# <font color = \"red\">Exercice 2</font>\n",
    "\n",
    "Classe de 20 élèves dont 12 garçons et 8 filles. 3 de ces garçons et 5 de ces filles sont blonds et les autres bruns. 3 filles blondes et 1 brune portent des lunettes. 1 garçon blond et 4 bruns portent des lunettes. On choisit ensuite dans cette classe un élève de manière aléatoire."
   ]
  },
  {
   "cell_type": "markdown",
   "metadata": {},
   "source": [
    "* 1: Dessiner l'arbre de probabibilité pondéré\n",
    "* 2: Calculer la probabilité de chaque résultat possible lors de ce tirage"
   ]
  },
  {
   "cell_type": "code",
   "execution_count": null,
   "metadata": {},
   "outputs": [],
   "source": []
  },
  {
   "cell_type": "markdown",
   "metadata": {},
   "source": [
    "# <font color = \"red\">Exercice 3</font>\n",
    "\n",
    "Une usine fabrique des tubes.\n",
    "Des erreurs de réglage dans la chaîne de production peuvent affecter l’épaisseur ou la longueur des tubes.\n",
    "Une étude menée sur la production a permis de constater que :\n",
    "\n",
    "96 % des tubes ont une épaisseur conforme ;  \n",
    "Parmi les tubes qui ont une épaisseur conforme, 95% ont une longueur conforme ;  \n",
    "3.6% des tubes ont une épaisseur non conforme et une longueur conforme.  \n",
    "On choisit un tube au hasard dans la production et on considère les événements :\n",
    "\n",
    "E : « l’épaisseur du tube est conforme »  \n",
    "L : « la longueur du tube est conforme »  "
   ]
  },
  {
   "cell_type": "markdown",
   "metadata": {},
   "source": [
    "* 1: Dessiner l'arbre de probabilité\n",
    "* 2: Quelle est la probabilité qu'un tube soit de longueur conforme ?"
   ]
  },
  {
   "cell_type": "code",
   "execution_count": null,
   "metadata": {},
   "outputs": [],
   "source": [
    "# p_l = "
   ]
  }
 ],
 "metadata": {
  "language_info": {
   "name": "python"
  },
  "orig_nbformat": 4
 },
 "nbformat": 4,
 "nbformat_minor": 2
}
