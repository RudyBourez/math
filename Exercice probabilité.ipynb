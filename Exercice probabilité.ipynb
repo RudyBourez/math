{
 "cells": [
  {
   "cell_type": "markdown",
   "metadata": {},
   "source": [
    "# <font color=\"red\">Exercice 1</font>\n",
    "\n",
    "Jeu de 52 cartes avec 4 couleurs (Trèfle, Carreau, Pique & Coeur) composées chacunes de 13 cartes(A,K,Q,V,2-10)"
   ]
  },
  {
   "cell_type": "markdown",
   "metadata": {},
   "source": [
    "## <font color=\"blue\">Partie 1: Tirage de 1 carte aléatoire</font>\n",
    "\n",
    "* 1: Probabilité de piocher une carte noire ?\n",
    "* 2: Probabilité de piocher un As rouge?\n",
    "* 3: Probabilité de piocher le roi de trèfle?\n",
    "* 4: Probabilité de piocher une carte noire ou une carte rouge ?\n",
    "* 5: Probabilité de piocher l’as de pique ou une dame rouge ?\n",
    "* 6: Probabilité de piocher le roi de tréfle sachant que la carte est de couleur noire ?"
   ]
  },
  {
   "cell_type": "code",
   "execution_count": null,
   "metadata": {},
   "outputs": [],
   "source": [
    "P1 = 1/2\n",
    "P2 = 1/26\n",
    "P3 = 1/52\n",
    "P4 = 1\n",
    "P5 = 1/52 + 2/52 = 3/52\n",
    "P6 = 1/26"
   ]
  },
  {
   "cell_type": "markdown",
   "metadata": {},
   "source": [
    "## <font color=\"blue\">Partie 2:  On pioche deux cartes consécutives AVEC remise</font>\n",
    "\n",
    "* 7: Probabilités de piocher le roi de trèfle puis le roi de trèfle ?\n",
    "* 8: Probabilité de piocher deux fois une carte noire ?\n",
    "* 9: Probabilités de piocher deux As ?\n",
    "* 10: Probabilités de piocher le valet de carreau puis un tréfle ?"
   ]
  },
  {
   "cell_type": "code",
   "execution_count": null,
   "metadata": {},
   "outputs": [],
   "source": [
    "P7 = 1/52 * 1/52\n",
    "P8 = 1/2 * 1/2\n",
    "P9 = 1/12 * 1/12\n",
    "P10 = 1/52 * 1/4"
   ]
  },
  {
   "cell_type": "markdown",
   "metadata": {},
   "source": [
    "## <font color=\"blue\">Partie 3:  On pioche cette fois–ci deux cartes consécutives SANS remise</font>\n",
    "\n",
    "* 11: Probabilité de piocher deux fois une carte noire ?\n",
    "* 12: Probabilités de piocher le roi de trèfle et le roi de trèfle ?\n",
    "* 13: Probabilités de piocher deux As ?\n",
    "* 14: Probabilités de piocher le roi de trèfle ou la dame de trèfle puis une carte noire?"
   ]
  },
  {
   "cell_type": "code",
   "execution_count": null,
   "metadata": {},
   "outputs": [],
   "source": [
    "P11 = 1/2 * 25/51\n",
    "P12 = 1/52 * 0/51 = 0\n",
    "P13 = 4/52 * 3/51\n",
    "P14 = (1/52 + 1/52) * 25/51"
   ]
  },
  {
   "cell_type": "markdown",
   "metadata": {},
   "source": [
    "# <font color = \"red\">Exercice 2</font>\n",
    "\n",
    "Classe de 20 élèves dont 12 garçons et 8 filles. 3 de ces garçons et 5 de ces filles sont blonds et les autres bruns. 3 filles blondes et 1 brune portent des lunettes. 1 garçon blond et 4 bruns portent des lunettes. On choisit ensuite dans cette classe un élève de manière aléatoire."
   ]
  },
  {
   "cell_type": "markdown",
   "metadata": {},
   "source": [
    "* 1: Calculer la probabilité de chaque résultat possible lors de ce tirage\n",
    "* 2: Dessiner l'arbre de probabilité pondéré"
   ]
  },
  {
   "cell_type": "code",
   "execution_count": null,
   "metadata": {},
   "outputs": [],
   "source": []
  },
  {
   "cell_type": "markdown",
   "metadata": {},
   "source": [
    "# <font color = \"red\">Exercice 3</font>\n",
    "\n",
    "Une usine fabrique des tubes.\n",
    "Des erreurs de réglage dans la chaîne de production peuvent affecter l’épaisseur ou la longueur des tubes.\n",
    "Une étude menée sur la production a permis de constater que :\n",
    "\n",
    "96 % des tubes ont une épaisseur conforme ;  \n",
    "Parmi les tubes qui ont une épaisseur conforme, 95% ont une longueur conforme ;  \n",
    "3.6% des tubes ont une épaisseur non conforme et une longueur conforme.  \n",
    "On choisit un tube au hasard dans la production et on considère les événements :\n",
    "\n",
    "E : « l’épaisseur du tube est conforme »  \n",
    "L : « la longueur du tube est conforme »  "
   ]
  },
  {
   "cell_type": "markdown",
   "metadata": {},
   "source": [
    "* 1: Dessiner l'arbre de probabilité\n",
    "* 2: Quelle est la probabilité qu'un tube soit de longueur conforme ?"
   ]
  },
  {
   "cell_type": "code",
   "execution_count": 3,
   "metadata": {},
   "outputs": [
    {
     "data": {
      "text/plain": [
       "0.948"
      ]
     },
     "execution_count": 3,
     "metadata": {},
     "output_type": "execute_result"
    }
   ],
   "source": [
    "p_L = 0.036 + 0.96*0.95\n",
    "p_L"
   ]
  }
 ],
 "metadata": {
  "interpreter": {
   "hash": "194b2fee8c7487a12bbf9fc6eab356934cf97f6074391a15e823a0b45f3e9552"
  },
  "kernelspec": {
   "display_name": "Python 3.10.0 64-bit",
   "language": "python",
   "name": "python3"
  },
  "language_info": {
   "codemirror_mode": {
    "name": "ipython",
    "version": 3
   },
   "file_extension": ".py",
   "mimetype": "text/x-python",
   "name": "python",
   "nbconvert_exporter": "python",
   "pygments_lexer": "ipython3",
   "version": "3.9.7"
  },
  "orig_nbformat": 4
 },
 "nbformat": 4,
 "nbformat_minor": 2
}
