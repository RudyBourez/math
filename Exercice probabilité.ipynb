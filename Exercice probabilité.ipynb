{
 "cells": [
  {
   "cell_type": "markdown",
   "metadata": {},
   "source": [
    "# <font color=\"red\">Exercice 1</font>\n",
    "\n",
    "Jeu de 52 cartes avec 4 couleurs (Trèfle, Carreau, Pique & Coeur) composées chacunes de 13 cartes(A,K,Q,V,2-10)"
   ]
  },
  {
   "cell_type": "markdown",
   "metadata": {},
   "source": [
    "## <font color=\"blue\">Partie 1: Tirage de 1 carte aléatoire</font>\n",
    "\n",
    "* 1: Probabilité de piocher une carte noire ?\n",
    "* 2: Probabilité de piocher un As rouge?\n",
    "* 3: Probabilité de piocher le roi de trèfle?\n",
    "* 4: Probabilité de piocher une carte noire ou une carte rouge ?\n",
    "* 5: Probabilité de piocher l’as de pique ou une dame rouge ?"
   ]
  },
  {
   "cell_type": "code",
   "execution_count": null,
   "metadata": {},
   "outputs": [],
   "source": [
    "# P1 = \n",
    "# P2 = \n",
    "# P3 = \n",
    "# P4 = \n",
    "# P5 = \n",
    "# print(P1,P2,P3,P4,P5)"
   ]
  },
  {
   "cell_type": "markdown",
   "metadata": {},
   "source": [
    "## <font color=\"blue\">Partie 2:  On pioche deux cartes consécutives AVEC remise</font>\n",
    "\n",
    "* 6: Probabilités de piocher le roi de trèfle et le roi de trèfle ?\n",
    "* 7: Probabilité de piocher deux fois une carte noire ?\n",
    "* 8: Probabilités de piocher deux As ?\n",
    "* 9: Probabilités de piocher le roi de trèfle et la dame de trèfle ?"
   ]
  },
  {
   "cell_type": "code",
   "execution_count": null,
   "metadata": {},
   "outputs": [],
   "source": [
    "# P6 = \n",
    "# P7 = \n",
    "# P8 = \n",
    "# P9 = \n",
    "# print(P6,P7,P8,P9)"
   ]
  },
  {
   "cell_type": "markdown",
   "metadata": {},
   "source": [
    "## <font color=\"blue\">Partie 3:  On pioche cette fois–ci deux cartes consécutives SANS remise</font>\n",
    "\n",
    "* 10: Probabilités de piocher le roi de trèfle et le roi de trèfle ?\n",
    "* 11: Probabilité de piocher deux fois une carte noire ?\n",
    "* 12: Probabilités de piocher deux As ?\n",
    "* 13: Probabilités de piocher le roi de trèfle ou la dame de trèfle et une carte noire?\n",
    "* 14: Probabilité de piocher une carte noire sachant qu’on a pioché le roi de trèfle au 1er tirage ?"
   ]
  },
  {
   "cell_type": "code",
   "execution_count": null,
   "metadata": {},
   "outputs": [],
   "source": [
    "# P10 = \n",
    "# P11 = \n",
    "# P12 = \n",
    "# P13 = \n",
    "# print(P10,P11,P12,P13)"
   ]
  },
  {
   "cell_type": "markdown",
   "metadata": {},
   "source": [
    "# <font color = \"red\">Exercice 2</font>\n",
    "\n",
    "Classe de 20 élèves dont 12 garçons et 8 filles. 3 de ces garçons et 5 de ces filles sont blonds et les autres bruns. 3 filles blondes et 1 brune portent des lunettes. 1 garçon blond et 4 bruns portent des lunettes. On choisit ensuite dans cette classe un élève de manière aléatoire."
   ]
  },
  {
   "cell_type": "markdown",
   "metadata": {},
   "source": [
    "## <font color=\"blue\">Partie 1: arbre de probabilité</font>\n",
    "\n",
    "* 1: Dessiner l'arbre de probabibilité\n",
    "* 2: Compléter cette arbre avec les probabilités associées à chaque branche\n",
    "* 3: Calculer la probabilité de chaque résultat possible lors de ce tirage"
   ]
  }
 ],
 "metadata": {
  "language_info": {
   "name": "python"
  },
  "orig_nbformat": 4
 },
 "nbformat": 4,
 "nbformat_minor": 2
}
